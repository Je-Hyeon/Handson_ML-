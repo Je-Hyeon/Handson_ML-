{
 "cells": [
  {
   "cell_type": "code",
   "execution_count": 1,
   "metadata": {},
   "outputs": [],
   "source": [
    "import numpy as np\n",
    "import pandas as pd\n",
    "import matplotlib.pyplot as plt \n",
    "\n",
    "import tensorflow as tf\n",
    "from tensorflow import keras"
   ]
  },
  {
   "attachments": {},
   "cell_type": "markdown",
   "metadata": {},
   "source": [
    "# 가중치 초기화\n",
    "\n",
    "층을 만들 때 kernel_initializer로 지정할 수 있다\n",
    "\n",
    "* 글로럴 | 하이퍼볼릭 탄젠트, 로지스틱, 소프트맥스 (케라스의 디폴트 : Uniform 기반의 글로럿 초기화)\n",
    "\n",
    "* He | Relu,  RRelu, PRelu, ELU, LeakyRelu\n",
    "\n",
    "* 르쿤 | SELU"
   ]
  },
  {
   "cell_type": "code",
   "execution_count": 2,
   "metadata": {},
   "outputs": [
    {
     "data": {
      "text/plain": [
       "<tensorflow.python.keras.layers.core.Dense at 0x2936c8b67c0>"
      ]
     },
     "execution_count": 2,
     "metadata": {},
     "output_type": "execute_result"
    }
   ],
   "source": [
    "# 예시\n",
    "keras.layers.Dense(10, activation=\"relu\", kernel_initializer=\"he_normal\")"
   ]
  },
  {
   "attachments": {},
   "cell_type": "markdown",
   "metadata": {},
   "source": [
    "# 활성화 함수\n",
    "\n",
    "SELU > ELU > LeakyRelu > Relu > tanh > 로지스틱 순으로 사용한다\n",
    "\n",
    "SELU는 자기 정규화 성질이 있다 (완전연결 신경망에만 해당, 반드시 르쿤 초기화, 반드시 Feature를 정규화 해야함)\n",
    "\n",
    "Grid-Search로 최적의 파라미터를 찾을 수 있다"
   ]
  },
  {
   "cell_type": "code",
   "execution_count": 3,
   "metadata": {},
   "outputs": [
    {
     "name": "stdout",
     "output_type": "stream",
     "text": [
      "Epoch 1/10\n",
      "1719/1719 [==============================] - 5s 3ms/step - loss: 1.2455 - accuracy: 0.6301 - val_loss: 0.8617 - val_accuracy: 0.7320\n",
      "Epoch 2/10\n",
      "1719/1719 [==============================] - 4s 3ms/step - loss: 0.7793 - accuracy: 0.7513 - val_loss: 0.7045 - val_accuracy: 0.7748\n",
      "Epoch 3/10\n",
      "1719/1719 [==============================] - 6s 3ms/step - loss: 0.6744 - accuracy: 0.7799 - val_loss: 0.6321 - val_accuracy: 0.7938\n",
      "Epoch 4/10\n",
      "1719/1719 [==============================] - 6s 3ms/step - loss: 0.6187 - accuracy: 0.7955 - val_loss: 0.5902 - val_accuracy: 0.8066\n",
      "Epoch 5/10\n",
      "1719/1719 [==============================] - 6s 4ms/step - loss: 0.5827 - accuracy: 0.8049 - val_loss: 0.5620 - val_accuracy: 0.8134\n",
      "Epoch 6/10\n",
      "1719/1719 [==============================] - 6s 3ms/step - loss: 0.5568 - accuracy: 0.8122 - val_loss: 0.5393 - val_accuracy: 0.8216\n",
      "Epoch 7/10\n",
      "1719/1719 [==============================] - 6s 4ms/step - loss: 0.5367 - accuracy: 0.8176 - val_loss: 0.5229 - val_accuracy: 0.8262\n",
      "Epoch 8/10\n",
      "1719/1719 [==============================] - 6s 4ms/step - loss: 0.5206 - accuracy: 0.8230 - val_loss: 0.5088 - val_accuracy: 0.8314\n",
      "Epoch 9/10\n",
      "1719/1719 [==============================] - 6s 3ms/step - loss: 0.5077 - accuracy: 0.8275 - val_loss: 0.4983 - val_accuracy: 0.8326\n",
      "Epoch 10/10\n",
      "1719/1719 [==============================] - 6s 4ms/step - loss: 0.4966 - accuracy: 0.8301 - val_loss: 0.4879 - val_accuracy: 0.8354\n"
     ]
    }
   ],
   "source": [
    "# LeakyRelu를 사용한 예시\n",
    "\n",
    "(X_train_full, y_train_full), (X_test, y_test) = keras.datasets.fashion_mnist.load_data()\n",
    "X_train_full = X_train_full / 255.0\n",
    "X_test = X_test / 255.0\n",
    "X_valid, X_train = X_train_full[:5000], X_train_full[5000:]\n",
    "y_valid, y_train = y_train_full[:5000], y_train_full[5000:]\n",
    "\n",
    "# 모델 만들기\n",
    "model = keras.models.Sequential([\n",
    "    keras.layers.Flatten(input_shape=[28, 28]),\n",
    "    keras.layers.Dense(300, kernel_initializer=\"he_normal\"),\n",
    "    keras.layers.LeakyReLU(),\n",
    "    keras.layers.Dense(100, kernel_initializer=\"he_normal\"),\n",
    "    keras.layers.LeakyReLU(),\n",
    "    keras.layers.Dense(10, activation=\"softmax\")\n",
    "])\n",
    "\n",
    "model.compile(loss=\"sparse_categorical_crossentropy\",\n",
    "              optimizer=keras.optimizers.SGD(learning_rate=1e-3),\n",
    "              metrics=[\"accuracy\"])\n",
    "\n",
    "history = model.fit(X_train, y_train, epochs=10,\n",
    "                    validation_data=(X_valid, y_valid))"
   ]
  },
  {
   "cell_type": "code",
   "execution_count": null,
   "metadata": {},
   "outputs": [],
   "source": [
    "# Elu  -> keras.layers.Dense(10, activation=\"elu\", kernel_initializer=\"he_normal\")\n",
    "# SELU -> keras.layers.Dense(10, activation=\"selu\", kernel_initializer=\"lecun_normal\")"
   ]
  },
  {
   "attachments": {},
   "cell_type": "markdown",
   "metadata": {},
   "source": [
    "# 배치 정규화"
   ]
  },
  {
   "cell_type": "code",
   "execution_count": null,
   "metadata": {},
   "outputs": [],
   "source": []
  }
 ],
 "metadata": {
  "kernelspec": {
   "display_name": "tensorflow_env",
   "language": "python",
   "name": "python3"
  },
  "language_info": {
   "codemirror_mode": {
    "name": "ipython",
    "version": 3
   },
   "file_extension": ".py",
   "mimetype": "text/x-python",
   "name": "python",
   "nbconvert_exporter": "python",
   "pygments_lexer": "ipython3",
   "version": "3.9.16"
  },
  "orig_nbformat": 4,
  "vscode": {
   "interpreter": {
    "hash": "fc529cdd40b6c6d6ebc6636e000a70193fe8293c44622ca4d6f68ee65868f8bb"
   }
  }
 },
 "nbformat": 4,
 "nbformat_minor": 2
}
