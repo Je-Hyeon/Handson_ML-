{
 "cells": [
  {
   "cell_type": "code",
   "execution_count": 1,
   "metadata": {},
   "outputs": [],
   "source": [
    "import numpy as np\n",
    "import pandas as pd\n",
    "import matplotlib.pyplot as plt \n",
    "\n",
    "import tensorflow as tf\n",
    "from tensorflow import keras"
   ]
  },
  {
   "attachments": {},
   "cell_type": "markdown",
   "metadata": {},
   "source": [
    "# 가중치 초기화\n",
    "\n",
    "층을 만들 때 kernel_initializer로 지정할 수 있다\n",
    "\n",
    "* 글로럴 | 하이퍼볼릭 탄젠트, 로지스틱, 소프트맥스 (케라스의 디폴트 : Uniform 기반의 글로럿 초기화)\n",
    "\n",
    "* He | Relu,  RRelu, PRelu, ELU, LeakyRelu\n",
    "\n",
    "* 르쿤 | SELU"
   ]
  },
  {
   "cell_type": "code",
   "execution_count": 2,
   "metadata": {},
   "outputs": [
    {
     "data": {
      "text/plain": [
       "<tensorflow.python.keras.layers.core.Dense at 0x2936c8b67c0>"
      ]
     },
     "execution_count": 2,
     "metadata": {},
     "output_type": "execute_result"
    }
   ],
   "source": [
    "# 예시\n",
    "keras.layers.Dense(10, activation=\"relu\", kernel_initializer=\"he_normal\")"
   ]
  },
  {
   "attachments": {},
   "cell_type": "markdown",
   "metadata": {},
   "source": [
    "# 활성화 함수\n",
    "\n",
    "SELU > ELU > LeakyRelu > Relu > tanh > 로지스틱 순으로 사용한다\n",
    "\n",
    "SELU는 자기 정규화 성질이 있다 (완전연결 신경망에만 해당, 반드시 르쿤 초기화, 반드시 Feature를 정규화 해야함)\n",
    "\n",
    "Grid-Search로 최적의 파라미터를 찾을 수 있다"
   ]
  },
  {
   "cell_type": "code",
   "execution_count": 10,
   "metadata": {},
   "outputs": [],
   "source": [
    "# LeakyRelu를 사용한 예시\n",
    "\n",
    "(X_train_full, y_train_full), (X_test, y_test) = keras.datasets.fashion_mnist.load_data()\n",
    "X_train_full = X_train_full / 255.0\n",
    "X_test = X_test / 255.0\n",
    "X_valid, X_train = X_train_full[:5000], X_train_full[5000:]\n",
    "y_valid, y_train = y_train_full[:5000], y_train_full[5000:]"
   ]
  },
  {
   "cell_type": "code",
   "execution_count": 3,
   "metadata": {},
   "outputs": [
    {
     "name": "stdout",
     "output_type": "stream",
     "text": [
      "Epoch 1/10\n",
      "1719/1719 [==============================] - 5s 3ms/step - loss: 1.2455 - accuracy: 0.6301 - val_loss: 0.8617 - val_accuracy: 0.7320\n",
      "Epoch 2/10\n",
      "1719/1719 [==============================] - 4s 3ms/step - loss: 0.7793 - accuracy: 0.7513 - val_loss: 0.7045 - val_accuracy: 0.7748\n",
      "Epoch 3/10\n",
      "1719/1719 [==============================] - 6s 3ms/step - loss: 0.6744 - accuracy: 0.7799 - val_loss: 0.6321 - val_accuracy: 0.7938\n",
      "Epoch 4/10\n",
      "1719/1719 [==============================] - 6s 3ms/step - loss: 0.6187 - accuracy: 0.7955 - val_loss: 0.5902 - val_accuracy: 0.8066\n",
      "Epoch 5/10\n",
      "1719/1719 [==============================] - 6s 4ms/step - loss: 0.5827 - accuracy: 0.8049 - val_loss: 0.5620 - val_accuracy: 0.8134\n",
      "Epoch 6/10\n",
      "1719/1719 [==============================] - 6s 3ms/step - loss: 0.5568 - accuracy: 0.8122 - val_loss: 0.5393 - val_accuracy: 0.8216\n",
      "Epoch 7/10\n",
      "1719/1719 [==============================] - 6s 4ms/step - loss: 0.5367 - accuracy: 0.8176 - val_loss: 0.5229 - val_accuracy: 0.8262\n",
      "Epoch 8/10\n",
      "1719/1719 [==============================] - 6s 4ms/step - loss: 0.5206 - accuracy: 0.8230 - val_loss: 0.5088 - val_accuracy: 0.8314\n",
      "Epoch 9/10\n",
      "1719/1719 [==============================] - 6s 3ms/step - loss: 0.5077 - accuracy: 0.8275 - val_loss: 0.4983 - val_accuracy: 0.8326\n",
      "Epoch 10/10\n",
      "1719/1719 [==============================] - 6s 4ms/step - loss: 0.4966 - accuracy: 0.8301 - val_loss: 0.4879 - val_accuracy: 0.8354\n"
     ]
    }
   ],
   "source": [
    "# 모델 만들기\n",
    "model = keras.models.Sequential([\n",
    "    keras.layers.Flatten(input_shape=[28, 28]),\n",
    "    keras.layers.Dense(300, kernel_initializer=\"he_normal\"),\n",
    "    keras.layers.LeakyReLU(),\n",
    "    keras.layers.Dense(100, kernel_initializer=\"he_normal\"),\n",
    "    keras.layers.LeakyReLU(),\n",
    "    keras.layers.Dense(10, activation=\"softmax\")\n",
    "])\n",
    "\n",
    "model.compile(loss=\"sparse_categorical_crossentropy\",\n",
    "              optimizer=keras.optimizers.SGD(learning_rate=1e-3),\n",
    "              metrics=[\"accuracy\"])\n",
    "\n",
    "history = model.fit(X_train, y_train, epochs=10,\n",
    "                    validation_data=(X_valid, y_valid))"
   ]
  },
  {
   "cell_type": "code",
   "execution_count": null,
   "metadata": {},
   "outputs": [],
   "source": [
    "# Elu  -> keras.layers.Dense(10, activation=\"elu\", kernel_initializer=\"he_normal\")\n",
    "# SELU -> keras.layers.Dense(10, activation=\"selu\", kernel_initializer=\"lecun_normal\")"
   ]
  },
  {
   "attachments": {},
   "cell_type": "markdown",
   "metadata": {},
   "source": [
    "# 배치 정규화\n",
    "\n",
    "심층신경망에서 매우 널리 사용되며, 보통 모든 층 뒤에 배치 정규화가 있다고 가정된다\n",
    "\n",
    "그라디언트 소실과 폭주 문제를 해결하기 위해 사용\n",
    "\n",
    "Input을 정규화한 후, 스케일을 조정하고 이동시킨다\n",
    "\n",
    "BatchNormalization을 사용할 때, Bias는 필요없는 파라미터라서 없애고 사용해도 된다 (use_bias=False)"
   ]
  },
  {
   "cell_type": "code",
   "execution_count": 12,
   "metadata": {},
   "outputs": [],
   "source": [
    "keras.backend.clear_session()"
   ]
  },
  {
   "cell_type": "code",
   "execution_count": 16,
   "metadata": {},
   "outputs": [
    {
     "name": "stdout",
     "output_type": "stream",
     "text": [
      "Model: \"sequential_3\"\n",
      "_________________________________________________________________\n",
      "Layer (type)                 Output Shape              Param #   \n",
      "=================================================================\n",
      "flatten_3 (Flatten)          (None, 784)               0         \n",
      "_________________________________________________________________\n",
      "batch_normalization_9 (Batch (None, 784)               3136      \n",
      "_________________________________________________________________\n",
      "dense_9 (Dense)              (None, 300)               235200    \n",
      "_________________________________________________________________\n",
      "batch_normalization_10 (Batc (None, 300)               1200      \n",
      "_________________________________________________________________\n",
      "dense_10 (Dense)             (None, 100)               30000     \n",
      "_________________________________________________________________\n",
      "batch_normalization_11 (Batc (None, 100)               400       \n",
      "_________________________________________________________________\n",
      "dense_11 (Dense)             (None, 10)                1010      \n",
      "=================================================================\n",
      "Total params: 270,946\n",
      "Trainable params: 268,578\n",
      "Non-trainable params: 2,368\n",
      "_________________________________________________________________\n"
     ]
    }
   ],
   "source": [
    "# Activation fucntion 이후에 BatchNormalization을 사용\n",
    "model = keras.models.Sequential([\n",
    "    keras.layers.Flatten(input_shape=[28, 28]),\n",
    "    keras.layers.BatchNormalization(),\n",
    "    keras.layers.Dense(300, activation=\"relu\",use_bias=False), # 아래와 한세트\n",
    "    keras.layers.BatchNormalization(),\n",
    "    keras.layers.Dense(100, activation=\"relu\",use_bias=False), # 아래와 한세트\n",
    "    keras.layers.BatchNormalization(),\n",
    "    keras.layers.Dense(10, activation=\"softmax\") # 출력이라서 이거 이후에는 BatchNormalization 필요없음\n",
    "])\n",
    "\n",
    "model.summary()"
   ]
  },
  {
   "cell_type": "code",
   "execution_count": 15,
   "metadata": {},
   "outputs": [
    {
     "name": "stdout",
     "output_type": "stream",
     "text": [
      "Model: \"sequential_2\"\n",
      "_________________________________________________________________\n",
      "Layer (type)                 Output Shape              Param #   \n",
      "=================================================================\n",
      "flatten_2 (Flatten)          (None, 784)               0         \n",
      "_________________________________________________________________\n",
      "batch_normalization_6 (Batch (None, 784)               3136      \n",
      "_________________________________________________________________\n",
      "dense_6 (Dense)              (None, 300)               235200    \n",
      "_________________________________________________________________\n",
      "batch_normalization_7 (Batch (None, 300)               1200      \n",
      "_________________________________________________________________\n",
      "activation_2 (Activation)    (None, 300)               0         \n",
      "_________________________________________________________________\n",
      "dense_7 (Dense)              (None, 100)               30000     \n",
      "_________________________________________________________________\n",
      "activation_3 (Activation)    (None, 100)               0         \n",
      "_________________________________________________________________\n",
      "batch_normalization_8 (Batch (None, 100)               400       \n",
      "_________________________________________________________________\n",
      "dense_8 (Dense)              (None, 10)                1010      \n",
      "=================================================================\n",
      "Total params: 270,946\n",
      "Trainable params: 268,578\n",
      "Non-trainable params: 2,368\n",
      "_________________________________________________________________\n"
     ]
    }
   ],
   "source": [
    "# Activation fucntion 이전에 BatchNormalization을 사용 -> Activation 함수를 따로 빼야함\n",
    "model = keras.models.Sequential([\n",
    "    keras.layers.Flatten(input_shape=[28, 28]),\n",
    "    keras.layers.BatchNormalization(),\n",
    "    keras.layers.Dense(300,use_bias=False),\n",
    "    keras.layers.BatchNormalization(),\n",
    "    keras.layers.Activation(\"elu\"),\n",
    "    keras.layers.Dense(100, use_bias=False),\n",
    "    keras.layers.Activation(\"elu\"),\n",
    "    keras.layers.BatchNormalization(),\n",
    "    keras.layers.Dense(10, activation=\"softmax\")\n",
    "])\n",
    "\n",
    "model.summary()"
   ]
  },
  {
   "attachments": {},
   "cell_type": "markdown",
   "metadata": {},
   "source": [
    "# 그라디언트 클립핑\n",
    "\n",
    "역전파 떄, 일정 임곗값을 넘어선 그라디언트를 잘라내는 것이다\n",
    "\n",
    "RNN은 배치정규화 적용이 힘들어서, 이 방식을 많이 사용한다"
   ]
  },
  {
   "cell_type": "code",
   "execution_count": null,
   "metadata": {},
   "outputs": [],
   "source": [
    "# clipvalue or clipvalue를 주면 된다\n",
    "optimizer = keras.optimizers.SGD(clipvalue=1.0)\n",
    "model.compile(loss=\"mse\", optimizer=optimizer)"
   ]
  },
  {
   "attachments": {},
   "cell_type": "markdown",
   "metadata": {},
   "source": [
    "# 사전 훈련된 층 재사용하기\n",
    "\n",
    "    1. 다른 모델을 가져와서, 일부 층의 파라미터를 동결하고, 일부층만 학습시킴\n",
    "    2. 이후, 모든 층의 동결을 해제하고 학습시킴\n",
    "\n",
    "전의학습은 일반적인 DNN에서는 잘 작동하지 않음"
   ]
  },
  {
   "cell_type": "code",
   "execution_count": 18,
   "metadata": {},
   "outputs": [],
   "source": [
    "def split_dataset(X, y):\n",
    "    y_5_or_6 = (y == 5) | (y == 6) # sandals or shirts\n",
    "    y_A = y[~y_5_or_6]\n",
    "    y_A[y_A > 6] -= 2 # class indices 7, 8, 9 should be moved to 5, 6, 7\n",
    "    y_B = (y[y_5_or_6] == 6).astype(np.float32) # binary classification task: is it a shirt (class 6)?\n",
    "    return ((X[~y_5_or_6], y_A),\n",
    "            (X[y_5_or_6], y_B))\n",
    "\n",
    "(X_train_A, y_train_A), (X_train_B, y_train_B) = split_dataset(X_train, y_train)\n",
    "(X_valid_A, y_valid_A), (X_valid_B, y_valid_B) = split_dataset(X_valid, y_valid)\n",
    "(X_test_A, y_test_A), (X_test_B, y_test_B) = split_dataset(X_test, y_test)\n",
    "X_train_B = X_train_B[:200]\n",
    "y_train_B = y_train_B[:200]"
   ]
  },
  {
   "cell_type": "code",
   "execution_count": 19,
   "metadata": {},
   "outputs": [
    {
     "name": "stdout",
     "output_type": "stream",
     "text": [
      "Epoch 1/20\n",
      "1375/1375 [==============================] - 8s 4ms/step - loss: 0.5616 - accuracy: 0.8183 - val_loss: 0.3779 - val_accuracy: 0.8732\n",
      "Epoch 2/20\n",
      "1375/1375 [==============================] - 6s 4ms/step - loss: 0.3504 - accuracy: 0.8778 - val_loss: 0.3182 - val_accuracy: 0.8914\n",
      "Epoch 3/20\n",
      "1375/1375 [==============================] - 6s 5ms/step - loss: 0.3130 - accuracy: 0.8907 - val_loss: 0.2959 - val_accuracy: 0.8981\n",
      "Epoch 4/20\n",
      "1375/1375 [==============================] - 6s 5ms/step - loss: 0.2939 - accuracy: 0.8975 - val_loss: 0.2857 - val_accuracy: 0.9008\n",
      "Epoch 5/20\n",
      "1375/1375 [==============================] - 6s 5ms/step - loss: 0.2814 - accuracy: 0.9024 - val_loss: 0.2753 - val_accuracy: 0.9046\n",
      "Epoch 6/20\n",
      "1375/1375 [==============================] - 6s 5ms/step - loss: 0.2723 - accuracy: 0.9056 - val_loss: 0.2637 - val_accuracy: 0.9088\n",
      "Epoch 7/20\n",
      "1375/1375 [==============================] - 6s 5ms/step - loss: 0.2649 - accuracy: 0.9096 - val_loss: 0.2588 - val_accuracy: 0.9121\n",
      "Epoch 8/20\n",
      "1375/1375 [==============================] - 6s 5ms/step - loss: 0.2582 - accuracy: 0.9115 - val_loss: 0.2544 - val_accuracy: 0.9111\n",
      "Epoch 9/20\n",
      "1375/1375 [==============================] - 6s 5ms/step - loss: 0.2525 - accuracy: 0.9139 - val_loss: 0.2527 - val_accuracy: 0.9118\n",
      "Epoch 10/20\n",
      "1375/1375 [==============================] - 6s 5ms/step - loss: 0.2476 - accuracy: 0.9157 - val_loss: 0.2533 - val_accuracy: 0.9118\n",
      "Epoch 11/20\n",
      "1375/1375 [==============================] - 6s 5ms/step - loss: 0.2440 - accuracy: 0.9172 - val_loss: 0.2505 - val_accuracy: 0.9143\n",
      "Epoch 12/20\n",
      "1375/1375 [==============================] - 6s 5ms/step - loss: 0.2398 - accuracy: 0.9183 - val_loss: 0.2453 - val_accuracy: 0.9148\n",
      "Epoch 13/20\n",
      "1375/1375 [==============================] - 6s 5ms/step - loss: 0.2360 - accuracy: 0.9201 - val_loss: 0.2407 - val_accuracy: 0.9175\n",
      "Epoch 14/20\n",
      "1375/1375 [==============================] - 6s 5ms/step - loss: 0.2331 - accuracy: 0.9199 - val_loss: 0.2405 - val_accuracy: 0.9175\n",
      "Epoch 15/20\n",
      "1375/1375 [==============================] - 6s 5ms/step - loss: 0.2298 - accuracy: 0.9216 - val_loss: 0.2367 - val_accuracy: 0.9160\n",
      "Epoch 16/20\n",
      "1375/1375 [==============================] - 6s 5ms/step - loss: 0.2274 - accuracy: 0.9222 - val_loss: 0.2335 - val_accuracy: 0.9210\n",
      "Epoch 17/20\n",
      "1375/1375 [==============================] - 6s 5ms/step - loss: 0.2242 - accuracy: 0.9235 - val_loss: 0.2322 - val_accuracy: 0.9188\n",
      "Epoch 18/20\n",
      "1375/1375 [==============================] - 6s 5ms/step - loss: 0.2222 - accuracy: 0.9232 - val_loss: 0.2319 - val_accuracy: 0.9168\n",
      "Epoch 19/20\n",
      "1375/1375 [==============================] - 6s 5ms/step - loss: 0.2195 - accuracy: 0.9248 - val_loss: 0.2261 - val_accuracy: 0.9213\n",
      "Epoch 20/20\n",
      "1375/1375 [==============================] - 6s 5ms/step - loss: 0.2174 - accuracy: 0.9251 - val_loss: 0.2263 - val_accuracy: 0.9193\n"
     ]
    },
    {
     "data": {
      "image/png": "[encoded data removed]",
      "text/plain": [
       "<Figure size 640x480 with 1 Axes>"
      ]
     },
     "metadata": {},
     "output_type": "display_data"
    }
   ],
   "source": [
    "# Model A를 학습시킨다 (8개의 Class를 가진 분류문제, Sandal, Shirt를 제외한 나머지로 학습)\n",
    "model_A = keras.models.Sequential()\n",
    "model_A.add(keras.layers.Flatten(input_shape=[28, 28]))\n",
    "for n_hidden in (300, 100, 50, 50, 50):\n",
    "    model_A.add(keras.layers.Dense(n_hidden, activation=\"selu\"))\n",
    "model_A.add(keras.layers.Dense(8, activation=\"softmax\"))\n",
    "\n",
    "model_A.compile(loss=\"sparse_categorical_crossentropy\",\n",
    "                optimizer=keras.optimizers.SGD(learning_rate=1e-3),\n",
    "                metrics=[\"accuracy\"])\n",
    "\n",
    "history = model_A.fit(X_train_A, y_train_A, epochs=20,\n",
    "                    validation_data=(X_valid_A, y_valid_A))\n",
    "\n",
    "pd.DataFrame(history.history).plot()\n",
    "plt.grid(True);"
   ]
  },
  {
   "cell_type": "code",
   "execution_count": 20,
   "metadata": {},
   "outputs": [],
   "source": [
    "model_A.save(\"my_model_A.h5\")"
   ]
  },
  {
   "cell_type": "code",
   "execution_count": 21,
   "metadata": {},
   "outputs": [
    {
     "name": "stdout",
     "output_type": "stream",
     "text": [
      "Epoch 1/20\n",
      "7/7 [==============================] - 1s 44ms/step - loss: 0.7817 - accuracy: 0.6150 - val_loss: 0.6401 - val_accuracy: 0.6998\n",
      "Epoch 2/20\n",
      "7/7 [==============================] - 0s 27ms/step - loss: 0.5451 - accuracy: 0.7350 - val_loss: 0.4900 - val_accuracy: 0.7911\n",
      "Epoch 3/20\n",
      "7/7 [==============================] - 0s 25ms/step - loss: 0.4106 - accuracy: 0.8300 - val_loss: 0.3893 - val_accuracy: 0.8611\n",
      "Epoch 4/20\n",
      "7/7 [==============================] - 0s 23ms/step - loss: 0.3234 - accuracy: 0.9000 - val_loss: 0.3298 - val_accuracy: 0.8945\n",
      "Epoch 5/20\n",
      "7/7 [==============================] - 0s 22ms/step - loss: 0.2696 - accuracy: 0.9400 - val_loss: 0.2854 - val_accuracy: 0.9239\n",
      "Epoch 6/20\n",
      "7/7 [==============================] - 0s 22ms/step - loss: 0.2303 - accuracy: 0.9800 - val_loss: 0.2515 - val_accuracy: 0.9432\n",
      "Epoch 7/20\n",
      "7/7 [==============================] - 0s 22ms/step - loss: 0.2007 - accuracy: 0.9900 - val_loss: 0.2236 - val_accuracy: 0.9564\n",
      "Epoch 8/20\n",
      "7/7 [==============================] - 0s 23ms/step - loss: 0.1757 - accuracy: 0.9950 - val_loss: 0.2008 - val_accuracy: 0.9635\n",
      "Epoch 9/20\n",
      "7/7 [==============================] - 0s 21ms/step - loss: 0.1558 - accuracy: 0.9900 - val_loss: 0.1840 - val_accuracy: 0.9645\n",
      "Epoch 10/20\n",
      "7/7 [==============================] - 0s 21ms/step - loss: 0.1406 - accuracy: 0.9900 - val_loss: 0.1688 - val_accuracy: 0.9675\n",
      "Epoch 11/20\n",
      "7/7 [==============================] - 0s 22ms/step - loss: 0.1271 - accuracy: 0.9900 - val_loss: 0.1567 - val_accuracy: 0.9746\n",
      "Epoch 12/20\n",
      "7/7 [==============================] - 0s 22ms/step - loss: 0.1163 - accuracy: 0.9900 - val_loss: 0.1461 - val_accuracy: 0.9767\n",
      "Epoch 13/20\n",
      "7/7 [==============================] - 0s 22ms/step - loss: 0.1069 - accuracy: 0.9900 - val_loss: 0.1385 - val_accuracy: 0.9787\n",
      "Epoch 14/20\n",
      "7/7 [==============================] - 0s 23ms/step - loss: 0.0994 - accuracy: 0.9950 - val_loss: 0.1311 - val_accuracy: 0.9787\n",
      "Epoch 15/20\n",
      "7/7 [==============================] - 0s 22ms/step - loss: 0.0929 - accuracy: 0.9950 - val_loss: 0.1250 - val_accuracy: 0.9797\n",
      "Epoch 16/20\n",
      "7/7 [==============================] - 0s 22ms/step - loss: 0.0874 - accuracy: 0.9950 - val_loss: 0.1202 - val_accuracy: 0.9797\n",
      "Epoch 17/20\n",
      "7/7 [==============================] - 0s 23ms/step - loss: 0.0823 - accuracy: 1.0000 - val_loss: 0.1153 - val_accuracy: 0.9807\n",
      "Epoch 18/20\n",
      "7/7 [==============================] - 0s 22ms/step - loss: 0.0779 - accuracy: 1.0000 - val_loss: 0.1106 - val_accuracy: 0.9828\n",
      "Epoch 19/20\n",
      "7/7 [==============================] - 0s 21ms/step - loss: 0.0738 - accuracy: 1.0000 - val_loss: 0.1065 - val_accuracy: 0.9838\n",
      "Epoch 20/20\n",
      "7/7 [==============================] - 0s 22ms/step - loss: 0.0701 - accuracy: 1.0000 - val_loss: 0.1030 - val_accuracy: 0.9838\n"
     ]
    }
   ],
   "source": [
    "# Sandal, Shirrt만 가진 200개의 작은 데이터셋으로 학습한 Model B를 만든다\n",
    "model_B = keras.models.Sequential()\n",
    "model_B.add(keras.layers.Flatten(input_shape=[28, 28]))\n",
    "for n_hidden in (300, 100, 50, 50, 50):\n",
    "    model_B.add(keras.layers.Dense(n_hidden, activation=\"selu\"))\n",
    "model_B.add(keras.layers.Dense(1, activation=\"sigmoid\"))\n",
    "\n",
    "model_B.compile(loss=\"binary_crossentropy\",\n",
    "                optimizer=keras.optimizers.SGD(learning_rate=1e-3),\n",
    "                metrics=[\"accuracy\"])\n",
    "\n",
    "history = model_B.fit(X_train_B, y_train_B, epochs=20,\n",
    "                      validation_data=(X_valid_B, y_valid_B))"
   ]
  },
  {
   "attachments": {},
   "cell_type": "markdown",
   "metadata": {},
   "source": [
    "`model_B_on_A`와 `model_A`는 층을 공유하기 때문에 하나를 훈련하면 두 모델이 업데이트됩니다. 이를 피하려면 `model_A`를 클론한 것을 사용해 `model_B_on_A`를 만들어야 합니다:\n",
    "\n",
    "clone_model은 가중치를 복제하지 않기 때문에, 가중치도 따로 가져와야 한다"
   ]
  },
  {
   "cell_type": "code",
   "execution_count": 23,
   "metadata": {},
   "outputs": [],
   "source": [
    "# 모델 A를 가져와서, 데이터 B에다가 학습시킴\n",
    "\n",
    "model_A_clone = keras.models.clone_model(model_A) # 깊은 복사라고 할 수 있음\n",
    "model_A_clone.set_weights(model_A.get_weights())\n",
    "\n",
    "model_B_on_A = keras.models.Sequential(model_A_clone.layers[:-1]) #출력층을 제외한 레이어를 사용\n",
    "model_B_on_A.add(keras.layers.Dense(1, activation=\"sigmoid\"))  # 새로운 출력층을 만든다"
   ]
  },
  {
   "cell_type": "code",
   "execution_count": 26,
   "metadata": {},
   "outputs": [
    {
     "name": "stdout",
     "output_type": "stream",
     "text": [
      "Epoch 1/4\n",
      "7/7 [==============================] - 1s 45ms/step - loss: 0.1394 - accuracy: 0.9800 - val_loss: 0.1517 - val_accuracy: 0.9736\n",
      "Epoch 2/4\n",
      "7/7 [==============================] - 0s 24ms/step - loss: 0.1134 - accuracy: 0.9800 - val_loss: 0.1303 - val_accuracy: 0.9777\n",
      "Epoch 3/4\n",
      "7/7 [==============================] - 0s 23ms/step - loss: 0.0967 - accuracy: 0.9850 - val_loss: 0.1156 - val_accuracy: 0.9797\n",
      "Epoch 4/4\n",
      "7/7 [==============================] - 0s 21ms/step - loss: 0.0850 - accuracy: 0.9900 - val_loss: 0.1049 - val_accuracy: 0.9807\n",
      "Epoch 1/16\n",
      "7/7 [==============================] - 1s 38ms/step - loss: 0.0626 - accuracy: 0.9900 - val_loss: 0.0631 - val_accuracy: 0.9888\n",
      "Epoch 2/16\n",
      "7/7 [==============================] - 0s 21ms/step - loss: 0.0370 - accuracy: 0.9950 - val_loss: 0.0496 - val_accuracy: 0.9899\n",
      "Epoch 3/16\n",
      "7/7 [==============================] - 0s 21ms/step - loss: 0.0265 - accuracy: 0.9950 - val_loss: 0.0424 - val_accuracy: 0.9899\n",
      "Epoch 4/16\n",
      "7/7 [==============================] - 0s 22ms/step - loss: 0.0207 - accuracy: 1.0000 - val_loss: 0.0385 - val_accuracy: 0.9919\n",
      "Epoch 5/16\n",
      "7/7 [==============================] - 0s 21ms/step - loss: 0.0169 - accuracy: 1.0000 - val_loss: 0.0360 - val_accuracy: 0.9919\n",
      "Epoch 6/16\n",
      "7/7 [==============================] - 0s 21ms/step - loss: 0.0143 - accuracy: 1.0000 - val_loss: 0.0377 - val_accuracy: 0.9909\n",
      "Epoch 7/16\n",
      "7/7 [==============================] - 0s 21ms/step - loss: 0.0131 - accuracy: 1.0000 - val_loss: 0.0340 - val_accuracy: 0.9909\n",
      "Epoch 8/16\n",
      "7/7 [==============================] - 0s 21ms/step - loss: 0.0108 - accuracy: 1.0000 - val_loss: 0.0317 - val_accuracy: 0.9919\n",
      "Epoch 9/16\n",
      "7/7 [==============================] - 0s 21ms/step - loss: 0.0094 - accuracy: 1.0000 - val_loss: 0.0303 - val_accuracy: 0.9919\n",
      "Epoch 10/16\n",
      "7/7 [==============================] - 0s 21ms/step - loss: 0.0085 - accuracy: 1.0000 - val_loss: 0.0291 - val_accuracy: 0.9919\n",
      "Epoch 11/16\n",
      "7/7 [==============================] - 0s 21ms/step - loss: 0.0077 - accuracy: 1.0000 - val_loss: 0.0286 - val_accuracy: 0.9919\n",
      "Epoch 12/16\n",
      "7/7 [==============================] - 0s 21ms/step - loss: 0.0070 - accuracy: 1.0000 - val_loss: 0.0290 - val_accuracy: 0.9919\n",
      "Epoch 13/16\n",
      "7/7 [==============================] - 0s 21ms/step - loss: 0.0065 - accuracy: 1.0000 - val_loss: 0.0280 - val_accuracy: 0.9919\n",
      "Epoch 14/16\n",
      "7/7 [==============================] - 0s 21ms/step - loss: 0.0060 - accuracy: 1.0000 - val_loss: 0.0273 - val_accuracy: 0.9919\n",
      "Epoch 15/16\n",
      "7/7 [==============================] - 0s 21ms/step - loss: 0.0056 - accuracy: 1.0000 - val_loss: 0.0266 - val_accuracy: 0.9919\n",
      "Epoch 16/16\n",
      "7/7 [==============================] - 0s 21ms/step - loss: 0.0052 - accuracy: 1.0000 - val_loss: 0.0261 - val_accuracy: 0.9919\n"
     ]
    }
   ],
   "source": [
    "# 처음 몇번의 에포크 동안은 새로운 층에게 적절한 가중치를 학습할 시간을 줘야하기 때문에,\n",
    "## 재사용된 층을 동결하고 학습을 진행해야한다\n",
    "\n",
    "# 일단 일부 층을 동결\n",
    "for layer in model_B_on_A.layers[:-1]:\n",
    "    layer.trainable = False\n",
    "\n",
    "model_B_on_A.compile(loss=\"binary_crossentropy\", optimizer=\"sgd\",\n",
    "                     metrics=[\"accuracy\"])\n",
    "\n",
    "history1 = model_B_on_A.fit(X_train_B, y_train_B, epochs=4,\n",
    "                            validation_data=(X_valid_B, y_valid_B))\n",
    "\n",
    "for layer in model_B_on_A.layers[:-1]:\n",
    "    layer.trainable = True\n",
    "# 모델을 동결하거나/ 동결을 해제한 후에는, 반드시 다시 compile해야한다\n",
    "model_B_on_A.compile(loss=\"binary_crossentropy\", optimizer=\"sgd\",\n",
    "                     metrics=[\"accuracy\"])\n",
    "\n",
    "history2 = model_B_on_A.fit(X_train_B, y_train_B, epochs=16,\n",
    "                            validation_data=(X_valid_B, y_valid_B))"
   ]
  },
  {
   "cell_type": "code",
   "execution_count": 27,
   "metadata": {},
   "outputs": [
    {
     "name": "stdout",
     "output_type": "stream",
     "text": [
      "63/63 [==============================] - 0s 4ms/step - loss: 0.0997 - accuracy: 0.9845\n"
     ]
    },
    {
     "data": {
      "text/plain": [
       "[0.09968601912260056, 0.984499990940094]"
      ]
     },
     "execution_count": 27,
     "metadata": {},
     "output_type": "execute_result"
    }
   ],
   "source": [
    "# 데이터 200개만 가지고 학습시킨 model B의 성능\n",
    "model_B.evaluate(X_test_B, y_test_B)"
   ]
  },
  {
   "cell_type": "code",
   "execution_count": 28,
   "metadata": {},
   "outputs": [
    {
     "name": "stdout",
     "output_type": "stream",
     "text": [
      "63/63 [==============================] - 0s 3ms/step - loss: 0.0149 - accuracy: 0.9970\n"
     ]
    },
    {
     "data": {
      "text/plain": [
       "[0.014877846464514732, 0.996999979019165]"
      ]
     },
     "execution_count": 28,
     "metadata": {},
     "output_type": "execute_result"
    }
   ],
   "source": [
    "# 모델 A를 가져와서 B로 다시 학습시킨 모델\n",
    "model_B_on_A.evaluate(X_test_B, y_test_B)"
   ]
  },
  {
   "attachments": {},
   "cell_type": "markdown",
   "metadata": {},
   "source": [
    "# 고속 옵티마이저"
   ]
  },
  {
   "cell_type": "code",
   "execution_count": null,
   "metadata": {},
   "outputs": [],
   "source": [
    "# Momentum\n",
    "optimizer = keras.optimizers.SGD(learning_rate=0.001, momentum=0.9)\n",
    "\n",
    "# Nestrov accelerated Gradient (기본 모멘텀 최적화보다 항상 더 빠르다)\n",
    "optimizer = keras.optimizers.SGD(learning_rate=0.001, momentum=0.9, nesterov=True)\n",
    "\n",
    "# RMSProp : 학습률을 서서히 감소시키면서 학습한다\n",
    "optimizer = keras.optimizers.RMSprop(learning_rate=0.001, rho=0.9) # rho는 감쇠율인데, 보통 0.9로 많이 사용한다\n",
    "\n",
    "# Adam : Momentum + RMSProp\n",
    "optimizer = keras.optimizers.Adam(learning_rate=0.001, beta_1=0.9, beta_2=0.999)"
   ]
  },
  {
   "attachments": {},
   "cell_type": "markdown",
   "metadata": {},
   "source": [
    "# 학습률 스케줄링\n",
    "\n",
    "큰 학습률로 시작해서, 학습속도가 느려질 때 학습률을 점점 낮춰간다\n",
    "\n",
    "    * 거듭제곱 기반 스케줄링 : 학습률은 스텝마다 감소, 처음에 빠르게 감소하다가 점점 느리게 감소\n",
    "\n",
    "    * 지수 기반 스케줄링 : 스텝마다 감소, s번 스텝마다 계속 10배씩 감소한다\n",
    "\n",
    "    * 구간별 고정 스케줄링 : 일정 에포크 동안 일정한 학습률, 이후 다음 일정 에포크 동안 일정한 학습률 사용"
   ]
  },
  {
   "cell_type": "code",
   "execution_count": null,
   "metadata": {},
   "outputs": [],
   "source": [
    "# 거듭제곱 기반 "
   ]
  }
 ],
 "metadata": {
  "kernelspec": {
   "display_name": "tensorflow_env",
   "language": "python",
   "name": "python3"
  },
  "language_info": {
   "codemirror_mode": {
    "name": "ipython",
    "version": 3
   },
   "file_extension": ".py",
   "mimetype": "text/x-python",
   "name": "python",
   "nbconvert_exporter": "python",
   "pygments_lexer": "ipython3",
   "version": "3.9.16"
  },
  "orig_nbformat": 4,
  "vscode": {
   "interpreter": {
    "hash": "fc529cdd40b6c6d6ebc6636e000a70193fe8293c44622ca4d6f68ee65868f8bb"
   }
  }
 },
 "nbformat": 4,
 "nbformat_minor": 2
}
